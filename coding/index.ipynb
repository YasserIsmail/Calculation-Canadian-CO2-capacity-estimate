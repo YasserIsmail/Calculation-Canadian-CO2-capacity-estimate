{
 "cells": [
  {
   "cell_type": "markdown",
   "metadata": {},
   "source": [
    "## I have a shapefile named saline10k_1502 that contains a low, medium, and high calculated estimate CO2 storage potential in saline aquifers in North America, I am only interested in the Canadian CO2 storage, I will create a shapefile containing the total CO2 capacity estimate for a given cell, Because the aquifers are stacked there are aquifers that overlap each other and I am looking for the sum of all the saline aquifer CO2 capacity estimates in each cell."
   ]
  },
  {
   "cell_type": "code",
   "execution_count": 1,
   "metadata": {},
   "outputs": [],
   "source": [
    "import os\n",
    "import shutil\n",
    "import geopandas as gpd"
   ]
  },
  {
   "cell_type": "code",
   "execution_count": 13,
   "metadata": {},
   "outputs": [],
   "source": [
    "data = gpd.read_file(r'..\\saline10k_1502\\saline10k_1502.shp')\n"
   ]
  },
  {
   "cell_type": "code",
   "execution_count": 16,
   "metadata": {},
   "outputs": [
    {
     "name": "stdout",
     "output_type": "stream",
     "text": [
      "|    | COL_ROW   | PARTNERSHI   | ARRA_PROJE   | RESOURCE_N     | BASIN_NAME   |   RSC_AREA_C |   VOL_LOW |   VOL_MED |   VOL_HIGH |   DEPTH_FT |   THICKNESS_ |   SALINITY_T |   PRESSURE_P |   TEMPERATUR |   POROSITY_P |   PERMEABILI |   ASSESSED | CYCLE_OF_L   |   OVERLAP |   DUPLICATE |   MED_CALCED |   Shape_Leng |   Shape_Area |\n",
      "|---:|:----------|:-------------|:-------------|:---------------|:-------------|-------------:|----------:|----------:|-----------:|-----------:|-------------:|-------------:|-------------:|-------------:|-------------:|-------------:|-----------:|:-------------|----------:|------------:|-------------:|-------------:|-------------:|\n",
      "|  0 | 314 - 367 | PCOR         |              | Basal Cambrian |              |      1.1e+07 |         0 |         0 |          0 |          0 |            0 |       202396 |         4877 |          290 |    0.037079  |      34      |          1 | Atlas V, v1  |         1 |           0 |            0 |        40000 |        1e+08 |\n",
      "|  1 | 314 - 366 | PCOR         |              | Basal Cambrian |              |      8.3e+07 |         0 |         0 |          0 |          0 |            0 |       201717 |         4392 |          294 |    0.0355396 |      15.6667 |          1 | Atlas V, v1  |         1 |           0 |            0 |        40000 |        1e+08 |\n",
      "|  2 | 314 - 365 | PCOR         |              | Basal Cambrian |              |      9.3e+07 |         0 |         0 |          0 |          0 |            0 |       200875 |         3795 |          299 |    0.0353897 |      16.9333 |          1 | Atlas V, v1  |         1 |           0 |            0 |        40000 |        1e+08 |\n"
     ]
    }
   ],
   "source": [
    "print(data.drop('geometry',axis=1).head(3).to_markdown())"
   ]
  },
  {
   "cell_type": "markdown",
   "metadata": {},
   "source": [
    "# The Canadian saline aquifers will under attribute Partnership – PCOR and the seven saline aquifers of RESOURCE_N attribute Basal Cambrian, Beaverhill Lake Group, Elk Point Group, Rundle Group, Viking, Winterburn Group, and Woodbend Group."
   ]
  },
  {
   "cell_type": "code",
   "execution_count": 3,
   "metadata": {},
   "outputs": [],
   "source": [
    "canadian_data = data.loc[(data['RESOURCE_N']=='Basal Cambrian')|(data['RESOURCE_N']=='Beaverhill Lake Group')|(data['RESOURCE_N']=='Elk Point Group')|(data['RESOURCE_N']=='Rundle Group')|(data['RESOURCE_N']=='Viking')|(data['RESOURCE_N']=='Winterburn Group')|(data['RESOURCE_N']=='Woodbend Group')|(data['PARTNERSHI']=='PCOR')]"
   ]
  },
  {
   "cell_type": "markdown",
   "metadata": {},
   "source": [
    "# Create a Shapefile and CSV containing lat longs of total Canadian CO2 capacity estimate I will calculate it  by Summation of VOL_LOW, VOL_MED, VOL_HIGH, and RSC_AREA_C for each Cell or the Cells that overlap in the same location"
   ]
  },
  {
   "cell_type": "code",
   "execution_count": 4,
   "metadata": {},
   "outputs": [],
   "source": [
    "co2 = canadian_data[['VOL_LOW','VOL_MED','VOL_HIGH','RSC_AREA_C','geometry','RESOURCE_N']]"
   ]
  },
  {
   "cell_type": "markdown",
   "metadata": {},
   "source": [
    "## Here is I will create a \"spatial_id\" column to create an ID to cells so the cells overlapped will have one ID (or spatial ID 😉), Then I will implement aggregation with dissolve based on my spatial ID."
   ]
  },
  {
   "cell_type": "code",
   "execution_count": 5,
   "metadata": {},
   "outputs": [
    {
     "name": "stderr",
     "output_type": "stream",
     "text": [
      "D:\\anaconda3\\envs\\PYTHONGIS\\lib\\site-packages\\geopandas\\geodataframe.py:853: SettingWithCopyWarning: \n",
      "A value is trying to be set on a copy of a slice from a DataFrame.\n",
      "Try using .loc[row_indexer,col_indexer] = value instead\n",
      "\n",
      "See the caveats in the documentation: https://pandas.pydata.org/pandas-docs/stable/user_guide/indexing.html#returning-a-view-versus-a-copy\n",
      "  super(GeoDataFrame, self).__setitem__(key, value)\n"
     ]
    }
   ],
   "source": [
    "co2['spatial_id'] = list(zip(co2['geometry'].centroid.x , co2['geometry'].centroid.y))"
   ]
  },
  {
   "cell_type": "code",
   "execution_count": 6,
   "metadata": {},
   "outputs": [
    {
     "name": "stdout",
     "output_type": "stream",
     "text": [
      "| spatial_id                        | geometry                                                                                                                           |     VOL_LOW |     VOL_MED |    VOL_HIGH |   RSC_AREA_C |\n",
      "|:----------------------------------|:-----------------------------------------------------------------------------------------------------------------------------------|------------:|------------:|------------:|-------------:|\n",
      "| (-1336251.7400000002, 1363935.68) | POLYGON ((-1341251.74 1358935.68, -1341251.74 1368935.68, -1331251.74 1368935.68, -1331251.74 1358935.68, -1341251.74 1358935.68)) | 0           | 0           | 0           |  1.85008e+06 |\n",
      "| (-1326251.7400000002, 1333935.68) | POLYGON ((-1331251.74 1328935.68, -1331251.74 1338935.68, -1321251.74 1338935.68, -1321251.74 1328935.68, -1331251.74 1328935.68)) | 3.19865e+06 | 6.05149e+06 | 1.0374e+07  |  1.79924e+07 |\n",
      "| (-1326251.7400000002, 1343935.68) | POLYGON ((-1331251.74 1338935.68, -1331251.74 1348935.68, -1321251.74 1348935.68, -1321251.74 1338935.68, -1331251.74 1338935.68)) | 8.07035e+06 | 1.52682e+07 | 2.61741e+07 |  5.54231e+07 |\n"
     ]
    }
   ],
   "source": [
    "sum_co2 = co2.dissolve(by=\"spatial_id\",aggfunc='sum')\n",
    "print(sum_co2.head(3).to_markdown())"
   ]
  },
  {
   "cell_type": "markdown",
   "metadata": {},
   "source": [
    "## re-indexing & delete spatial _id \n",
    "### goodbye spatial _id"
   ]
  },
  {
   "cell_type": "code",
   "execution_count": 7,
   "metadata": {},
   "outputs": [
    {
     "name": "stdout",
     "output_type": "stream",
     "text": [
      "|    | geometry                                                                                                                           |     VOL_LOW |     VOL_MED |    VOL_HIGH |   RSC_AREA_C |\n",
      "|---:|:-----------------------------------------------------------------------------------------------------------------------------------|------------:|------------:|------------:|-------------:|\n",
      "|  0 | POLYGON ((-1341251.74 1358935.68, -1341251.74 1368935.68, -1331251.74 1368935.68, -1331251.74 1358935.68, -1341251.74 1358935.68)) | 0           | 0           | 0           |  1.85008e+06 |\n",
      "|  1 | POLYGON ((-1331251.74 1328935.68, -1331251.74 1338935.68, -1321251.74 1338935.68, -1321251.74 1328935.68, -1331251.74 1328935.68)) | 3.19865e+06 | 6.05149e+06 | 1.0374e+07  |  1.79924e+07 |\n",
      "|  2 | POLYGON ((-1331251.74 1338935.68, -1331251.74 1348935.68, -1321251.74 1348935.68, -1321251.74 1338935.68, -1331251.74 1338935.68)) | 8.07035e+06 | 1.52682e+07 | 2.61741e+07 |  5.54231e+07 |\n"
     ]
    }
   ],
   "source": [
    "sum_co2.reset_index(inplace=True)\n",
    "sum_co2.drop(columns=['spatial_id'],inplace=True)\n",
    "print(sum_co2.head(3).to_markdown())"
   ]
  },
  {
   "cell_type": "markdown",
   "metadata": {},
   "source": [
    "## create latitude and longitude columns"
   ]
  },
  {
   "cell_type": "code",
   "execution_count": 8,
   "metadata": {},
   "outputs": [
    {
     "name": "stderr",
     "output_type": "stream",
     "text": [
      "D:\\anaconda3\\envs\\PYTHONGIS\\lib\\site-packages\\ipykernel_launcher.py:1: UserWarning: Geometry is in a geographic CRS. Results from 'centroid' are likely incorrect. Use 'GeoSeries.to_crs()' to re-project geometries to a projected CRS before this operation.\n",
      "\n",
      "  \"\"\"Entry point for launching an IPython kernel.\n",
      "D:\\anaconda3\\envs\\PYTHONGIS\\lib\\site-packages\\ipykernel_launcher.py:2: UserWarning: Geometry is in a geographic CRS. Results from 'centroid' are likely incorrect. Use 'GeoSeries.to_crs()' to re-project geometries to a projected CRS before this operation.\n",
      "\n",
      "  \n"
     ]
    },
    {
     "name": "stdout",
     "output_type": "stream",
     "text": [
      "|    | geometry                                                                                                                           |     VOL_LOW |     VOL_MED |    VOL_HIGH |   RSC_AREA_C |     lat |      lon |\n",
      "|---:|:-----------------------------------------------------------------------------------------------------------------------------------|------------:|------------:|------------:|-------------:|--------:|---------:|\n",
      "|  0 | POLYGON ((-1341251.74 1358935.68, -1341251.74 1368935.68, -1331251.74 1368935.68, -1331251.74 1358935.68, -1341251.74 1358935.68)) | 0           | 0           | 0           |  1.85008e+06 | 55.5994 | -121.452 |\n",
      "|  1 | POLYGON ((-1331251.74 1328935.68, -1331251.74 1338935.68, -1321251.74 1338935.68, -1321251.74 1328935.68, -1331251.74 1328935.68)) | 3.19865e+06 | 6.05149e+06 | 1.0374e+07  |  1.79924e+07 | 55.3663 | -121.16  |\n",
      "|  2 | POLYGON ((-1331251.74 1338935.68, -1331251.74 1348935.68, -1321251.74 1348935.68, -1321251.74 1338935.68, -1331251.74 1338935.68)) | 8.07035e+06 | 1.52682e+07 | 2.61741e+07 |  5.54231e+07 | 55.4522 | -121.206 |\n"
     ]
    }
   ],
   "source": [
    "sum_co2['lat'] = sum_co2.to_crs(4326)['geometry'].centroid.y\n",
    "sum_co2['lon'] = sum_co2.to_crs(4326)['geometry'].centroid.x\n",
    "print(sum_co2.head(3).to_markdown())"
   ]
  },
  {
   "cell_type": "markdown",
   "metadata": {},
   "source": [
    "## creating a folder with name 'sum_co2' to contain CO2 capacity estimate files"
   ]
  },
  {
   "cell_type": "code",
   "execution_count": 9,
   "metadata": {},
   "outputs": [],
   "source": [
    "if os.path.isdir('sum_co2'):\n",
    "    shutil.rmtree('sum_co2',ignore_errors=True)\n",
    "\n",
    "os.mkdir('sum_co2')\n",
    "\n",
    "sum_co2.to_file(r\"sum_co2/sum_co2.shp\")\n",
    "sum_co2.to_file(r\"sum_co2/sum_co2.csv\",driver='CSV')"
   ]
  },
  {
   "cell_type": "markdown",
   "metadata": {},
   "source": [
    "# Create Shapefiles and CSV containing lat longs of each of the seven Canadian saline aquifers (Seven shapefiles, seven CSV) with Keep all existing attribute values. "
   ]
  },
  {
   "cell_type": "code",
   "execution_count": 10,
   "metadata": {},
   "outputs": [],
   "source": [
    "saline_aquifers = data.loc[(data['RESOURCE_N']=='Basal Cambrian')|(data['RESOURCE_N']=='Beaverhill Lake Group')|(data['RESOURCE_N']=='Elk Point Group')|(data['RESOURCE_N']=='Rundle Group')|(data['RESOURCE_N']=='Viking')|(data['RESOURCE_N']=='Winterburn Group')|(data['RESOURCE_N']=='Woodbend Group')]"
   ]
  },
  {
   "cell_type": "markdown",
   "metadata": {},
   "source": [
    "## creating a folder with name 'saline_aquifers' to contain folders are contain saline aquifers files"
   ]
  },
  {
   "cell_type": "code",
   "execution_count": 11,
   "metadata": {},
   "outputs": [],
   "source": [
    "if os.path.isdir('saline_aquifers'):\n",
    "    shutil.rmtree('saline_aquifers',ignore_errors=True)\n",
    "\n",
    "os.mkdir('saline_aquifers')"
   ]
  },
  {
   "cell_type": "code",
   "execution_count": 12,
   "metadata": {},
   "outputs": [
    {
     "name": "stderr",
     "output_type": "stream",
     "text": [
      "D:\\anaconda3\\envs\\PYTHONGIS\\lib\\site-packages\\ipykernel_launcher.py:2: UserWarning: Geometry is in a geographic CRS. Results from 'centroid' are likely incorrect. Use 'GeoSeries.to_crs()' to re-project geometries to a projected CRS before this operation.\n",
      "\n",
      "  \n",
      "D:\\anaconda3\\envs\\PYTHONGIS\\lib\\site-packages\\ipykernel_launcher.py:3: UserWarning: Geometry is in a geographic CRS. Results from 'centroid' are likely incorrect. Use 'GeoSeries.to_crs()' to re-project geometries to a projected CRS before this operation.\n",
      "\n",
      "  This is separate from the ipykernel package so we can avoid doing imports until\n"
     ]
    },
    {
     "name": "stdout",
     "output_type": "stream",
     "text": [
      "Basal Cambrian is done\n",
      "Beaverhill Lake Group is done\n",
      "Elk Point Group is done\n",
      "Rundle Group is done\n",
      "Viking is done\n",
      "Winterburn Group is done\n",
      "Woodbend Group is done\n"
     ]
    }
   ],
   "source": [
    "for inx,data in saline_aquifers.groupby('RESOURCE_N'):\n",
    "    data['lat'] = data.to_crs(4326)['geometry'].centroid.y\n",
    "    data['lon'] = data.to_crs(4326)['geometry'].centroid.x\n",
    "    os.mkdir(os.path.join('saline_aquifers',str(inx)))\n",
    "    data.to_file(os.path.join('saline_aquifers',str(inx),str(inx+'.shp')))\n",
    "    data.to_file(os.path.join('saline_aquifers',str(inx),str(inx+'.csv')),driver='CSV')"
   ]
  }
 ],
 "metadata": {
  "kernelspec": {
   "display_name": "Python 3",
   "language": "python",
   "name": "python3"
  },
  "language_info": {
   "codemirror_mode": {
    "name": "ipython",
    "version": 3
   },
   "file_extension": ".py",
   "mimetype": "text/x-python",
   "name": "python",
   "nbconvert_exporter": "python",
   "pygments_lexer": "ipython3",
   "version": "3.6.7"
  }
 },
 "nbformat": 4,
 "nbformat_minor": 2
}
